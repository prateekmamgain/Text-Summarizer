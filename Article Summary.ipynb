{
 "cells": [
  {
   "cell_type": "code",
   "execution_count": 1,
   "id": "ac95057e",
   "metadata": {},
   "outputs": [],
   "source": [
    "import nltk\n",
    "from nltk.corpus import stopwords\n",
    "from nltk.cluster.util import cosine_distance\n",
    "import numpy as np\n",
    "import networkx as nx"
   ]
  },
  {
   "cell_type": "code",
   "execution_count": 2,
   "id": "cf227041",
   "metadata": {},
   "outputs": [],
   "source": [
    "def read_article(file_name):\n",
    "    file = open(file_name, \"r\")\n",
    "    filedata = file.readlines()\n",
    "    article = filedata[0].split(\". \")\n",
    "    sentences = []\n",
    "\n",
    "    for sentence in article:\n",
    "        print(sentence)\n",
    "        sentences.append(sentence.replace(\"[^a-zA-Z]\", \" \").split(\" \"))\n",
    "    sentences.pop() \n",
    "    \n",
    "    return sentences"
   ]
  },
  {
   "cell_type": "code",
   "execution_count": 3,
   "id": "f8bb3f7b",
   "metadata": {},
   "outputs": [],
   "source": [
    "def sentence_similarity(sent1, sent2, stopwords=None):\n",
    "    if stopwords is None:\n",
    "        stopwords = []\n",
    " \n",
    "    sent1 = [w.lower() for w in sent1]\n",
    "    sent2 = [w.lower() for w in sent2]\n",
    " \n",
    "    all_words = list(set(sent1 + sent2))\n",
    " \n",
    "    vector1 = [0] * len(all_words)\n",
    "    vector2 = [0] * len(all_words)\n",
    " \n",
    "    # build the vector for the first sentence\n",
    "    for w in sent1:\n",
    "        if w in stopwords:\n",
    "            continue\n",
    "        vector1[all_words.index(w)] += 1\n",
    " \n",
    "    # build the vector for the second sentence\n",
    "    for w in sent2:\n",
    "        if w in stopwords:\n",
    "            continue\n",
    "        vector2[all_words.index(w)] += 1\n",
    " \n",
    "    return 1 - cosine_distance(vector1, vector2)"
   ]
  },
  {
   "cell_type": "code",
   "execution_count": 4,
   "id": "09a50546",
   "metadata": {},
   "outputs": [],
   "source": [
    "def build_similarity_matrix(sentences, stop_words):\n",
    "    # Create an empty similarity matrix\n",
    "    similarity_matrix = np.zeros((len(sentences), len(sentences)))\n",
    " \n",
    "    for idx1 in range(len(sentences)):\n",
    "        for idx2 in range(len(sentences)):\n",
    "            if idx1 == idx2: #ignore if both are same sentences\n",
    "                continue \n",
    "            similarity_matrix[idx1][idx2] = sentence_similarity(sentences[idx1], sentences[idx2], stop_words)\n",
    "\n",
    "    return similarity_matrix"
   ]
  },
  {
   "cell_type": "code",
   "execution_count": 15,
   "id": "3923df85",
   "metadata": {},
   "outputs": [],
   "source": [
    "def generate_summary(file_name, top_n=5):\n",
    "    nltk.download(\"stopwords\")\n",
    "    stop_words = stopwords.words('english')\n",
    "    summarize_text = []\n",
    "\n",
    "    # Step 1 - Read text anc split it\n",
    "    sentences =  read_article(file_name)\n",
    "\n",
    "    # Step 2 - Generate Similary Martix across sentences\n",
    "    sentence_similarity_martix = build_similarity_matrix(sentences, stop_words)\n",
    "\n",
    "    # Step 3 - Rank sentences in similarity martix\n",
    "    sentence_similarity_graph = nx.from_numpy_array(sentence_similarity_martix)\n",
    "    scores = nx.pagerank(sentence_similarity_graph)\n",
    "\n",
    "    # Step 4 - Sort the rank and pick top sentences\n",
    "    ranked_sentence = sorted(((scores[i],s) for i,s in enumerate(sentences)), reverse=True)    \n",
    "    #print(\"Indexes of top ranked_sentence order are \", ranked_sentence)    \n",
    "\n",
    "    for i in range(top_n):\n",
    "        summarize_text.append(\" \".join(ranked_sentence[i][1]))\n",
    "\n",
    "    # Step 5 - Offcourse, output the summarize text\n",
    "    print(\"Summarize Text: \\n\", \". \".join(summarize_text))\n"
   ]
  },
  {
   "cell_type": "code",
   "execution_count": 22,
   "id": "965a4bdc",
   "metadata": {},
   "outputs": [
    {
     "name": "stderr",
     "output_type": "stream",
     "text": [
      "[nltk_data] Downloading package stopwords to\n",
      "[nltk_data]     C:\\Users\\Prateek\\AppData\\Roaming\\nltk_data...\n",
      "[nltk_data]   Package stopwords is already up-to-date!\n"
     ]
    },
    {
     "name": "stdout",
     "output_type": "stream",
     "text": [
      "Human minds, a fascination in itself carrying the potential of tinkering nature with the pixie dust intelligence, creating and solving the mysteries and wonders with anything but admiration\n",
      "However, no matter how captivating a human mind can be, it could sometimes be appalled\n",
      "It could be the hunger or maybe the desire to want more, to go beyond and unravel the limitations, or maybe something like pure greed\n",
      "Humans have never stopped and always keep evolving when it comes to intelligence and this is what makes them the supreme.Intelligence calls out for supremacy and so, what if there was to evolve something that opposed a challenge to the very human minds, to their capabilities while making them question their own importance among themselves? Artificial Intelligence came as a revolution, havoc when it first came to the light\n",
      "The concept of making machines does work on their own, like granting machines â€“The Intelligence.The idea of making machines work like humans came back in the 19s\n",
      "Back then people didnâ€™t believe in such a thing as making a non-living thing work, think, and carry tasks on its own, not to mention, to actually surpass humans themselves in those skills\n",
      "The facts are it did\n",
      "By 1997\n",
      "The greatest chess player, Garry Kasparov was defeated in a chess game by a machine and this is where exactly, a top skilled human lost to a mere machine created by another who by himself couldâ€™ve never defeated him\n",
      "It was a rule of power, of betterment, of skills, and the granted supremacy\n",
      "Were AI and Machines just tools? Equipment?\\xa0 Something that helped an unskilled person with his mind and intelligence creates something that could do the skilled work for him with perfection and precision? Well initially it was, however, as time passed as humans got drawn to the puzzle of AI, a lot changed\n",
      "Human research went deeper and deeper and as a result, the machines evolved with it.At present, AI & Machines is a growing field\n",
      "As it develops and improves, it has become a part of the industrial revolution\n",
      "In industries, most of the laborious work that was once taken care of by humans was now replaced by machines\n",
      "Naturally, with the evolution in machines, its precision, mass productivity, quality control, time efficiencies, and all the other factors made it a better choice\n",
      "A choice over humans.This led to fear, a fear of a not-so-distant future, a future where maybe machines will be so evolved that theyâ€™ll take over the need of a human employee leading to unemployment\n",
      "With the population increase around the world, it became the new tech threat for the labor market\n",
      "Then againâ€¦ how true is it? Does AI really oppose a threat? Will adapting to technology make millions of people lose their jobs? Will it lead to mass unemployment? Will the machines really surpass humans? Will, the creation take over the creator?No matter how fearful the future with AI may seem, in reality, it is not that scary\n",
      "Truth is AI is the present reality, it is the key that holds the power to unlock a whole next level of human evolution\n",
      "Technology is growing\n",
      "There was a time where technology was just an idea, but today that idea has been implemented, itâ€™s working and is carried out\n",
      "Nobody could stop the advancement and growth of Artificial Intelligence, itâ€™s a wave that is already flowing and we as the present generation and the generations to come to have to learn, to learn to swim in this flow and avoid drowning.Many jobs will be replaced by machines, as AI evolves itâ€™ll keep challenging human minds and their skills\n",
      "With the present COVID 19 situation, contactless cashiers to robots delivering packages have already taken over the usual routine tasks\n",
      "The jobs of Secretaries, Schedulers, and book-keeper are at risk too\n",
      "Manufacturing units, agriculture, food services, retail, transportation & logistic, and hospitality are all a part of the AI-affected automation\n",
      "At an estimation, it is said that around 20 million jobs, especially including manufacturing will be lost to robots\n",
      "As AI, robotics, 3D printing, and genetics make their way in, even the architects, medical docs, and music composers feel threatened by technology\n",
      "Making us question that will AI even edge us out of our brain jobs too? Now that can be terrifying.However, as much as machines will be replacing few jobs, theyâ€™ll also be creating new jobs.\\xa0 With the economic growth, innovation, and investment around 133 million jobs are said to be generated\n",
      "These newly enhanced jobs are to create benefits and amplify oneâ€™s creativity, strategy, and entrepreneurial skills\n",
      "So what is the catch?Well, itâ€™s the skills\n",
      "Even though AI is creating 3 times more jobs than it is destroying, itâ€™s the skills that count\n",
      "AI surged in new job opportunities, opportunities like Senior Data Scientist, Mobile Application Developer, and SEO specialist\n",
      "These jobs were once never heard of but now with AI itâ€™s born, however, to do these jobs or for its qualification, one needs high-level skills and to acquire those skills can be an expensive and time-consuming task\n",
      "The future generation might be able to cope up with it but the real struggle is to be faced by the present two generations\n",
      "Itâ€™s the vulnerability between the skill gap and unemployment and the youths are the ones to be crushed the most.Therefore, as the advancement of AI becomes inevitable there remains no choice but to adapt, learn, equip ourselves and grow with it\n",
      "The companies have to work together to build an AI-ready workplace\n",
      "They should collaborate with the government, educators, and non-profit organizations and work together to bring out policies that could help understand the technologiesâ€™ impacts faster while also providing the employees some security\n",
      "The economic and business planning should be made considerable for minimizing the impact on local jobs and properly maximizing the opportunities.The employees should be provided with proper tools to carry along with the new opportunities while acquiring AI-based skills for their day-to-day work\n",
      "New skills should be identified and implemented for the upskilling and continual learning initiatives\n",
      "Employees will have to maximize their Robotic Quotient and learn core skills\n",
      "Theyâ€™ll have to adapt to new working models and understand their roles in the coming future.Howsoever, itâ€™s not like AI will totally take over control, even though AI proves to be a better choice, it still has its limitations at present\n",
      "First, itâ€™s expensive, secondly, manufacturing machines in bulk is not good for the environment\n",
      "Machines are also very high maintenance, therefore human labor will often come cheaper and so will be considered over machines\n",
      "Underdeveloped countries will find it hard to equip their people with the upskilling and reskilling required for AI workplace and so for AI to play a role in those countries, might take years\n",
      "AI can also be risky and unethical, as itâ€™s hard to figure out who to be held responsible for in cases where an AI went wrong.No matter, how advanced AI gets, there are some skills where humans will always have an upper hand i.e., soft skills\n",
      "Skills like teamwork, communication, creativity, and critical thinking are something that AI hasnâ€™t been able to beat us up to yet and so the value of creativity, leadership, and emotional intelligence has increased\n",
      "Although, with machines coming in between humans causing the lack of human-to-human interaction, the humans seem to fade away a little.With this era, comes the need for good leaders\n",
      "Leaders who are capable of handling both machines and humans together, the ones who are organized enough to manage the skilled and the unskilled employees while providing the unskilled trainees with proper training\n",
      "Leaders who hold profound soft skills and encourage teamwork while working along with machines\n",
      "The ones who are patient, calm, and optimized.In conclusion, yes AI and machines are going to be very challenging but thereâ€™s nothing humans havenâ€™t overcome\n",
      "Adaptation and up-gradation are going to be the primary factor for survival\n",
      "As we witness the onset of the 4th industrial revolution, letâ€™s buckle up our seats and race along the highway with the essential fuels (skills) so as to not let ourselves eliminated\n",
      "After all, this is an unending race with infinity as the end, all we could do is try not to run out of fuel\n",
      "Try not to be outdated.\n"
     ]
    },
    {
     "name": "stdout",
     "output_type": "stream",
     "text": [
      "Summarize Text: \n",
      " AI can also be risky and unethical, as itâ€™s hard to figure out who to be held responsible for in cases where an AI went wrong.No matter, how advanced AI gets, there are some skills where humans will always have an upper hand i.e., soft skills. Even though AI is creating 3 times more jobs than it is destroying, itâ€™s the skills that count. Nobody could stop the advancement and growth of Artificial Intelligence, itâ€™s a wave that is already flowing and we as the present generation and the generations to come to have to learn, to learn to swim in this flow and avoid drowning.Many jobs will be replaced by machines, as AI evolves itâ€™ll keep challenging human minds and their skills. These jobs were once never heard of but now with AI itâ€™s born, however, to do these jobs or for its qualification, one needs high-level skills and to acquire those skills can be an expensive and time-consuming task. The concept of making machines does work on their own, like granting machines â€“The Intelligence.The idea of making machines work like humans came back in the 19s. Human research went deeper and deeper and as a result, the machines evolved with it.At present, AI & Machines is a growing field. Theyâ€™ll have to adapt to new working models and understand their roles in the coming future.Howsoever, itâ€™s not like AI will totally take over control, even though AI proves to be a better choice, it still has its limitations at present. Making us question that will AI even edge us out of our brain jobs too? Now that can be terrifying.However, as much as machines will be replacing few jobs, theyâ€™ll also be creating new jobs.\\xa0 With the economic growth, innovation, and investment around 133 million jobs are said to be generated. Were AI and Machines just tools? Equipment?\\xa0 Something that helped an unskilled person with his mind and intelligence creates something that could do the skilled work for him with perfection and precision? Well initially it was, however, as time passed as humans got drawn to the puzzle of AI, a lot changed. The ones who are patient, calm, and optimized.In conclusion, yes AI and machines are going to be very challenging but thereâ€™s nothing humans havenâ€™t overcome\n"
     ]
    }
   ],
   "source": [
    "# let's begin\n",
    "generate_summary(r\"C:\\Users\\Prateek\\OneDrive\\Desktop\\sample_article.txt\",10)"
   ]
  },
  {
   "cell_type": "code",
   "execution_count": null,
   "id": "2b82e5e3",
   "metadata": {},
   "outputs": [],
   "source": []
  }
 ],
 "metadata": {
  "kernelspec": {
   "display_name": "Python 3 (ipykernel)",
   "language": "python",
   "name": "python3"
  },
  "language_info": {
   "codemirror_mode": {
    "name": "ipython",
    "version": 3
   },
   "file_extension": ".py",
   "mimetype": "text/x-python",
   "name": "python",
   "nbconvert_exporter": "python",
   "pygments_lexer": "ipython3",
   "version": "3.9.13"
  }
 },
 "nbformat": 4,
 "nbformat_minor": 5
}
